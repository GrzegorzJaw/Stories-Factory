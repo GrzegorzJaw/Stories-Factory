{
 "cells": [
  {
   "cell_type": "code",
   "execution_count": 1,
   "metadata": {},
   "outputs": [],
   "source": [
    "import cairosvg"
   ]
  },
  {
   "cell_type": "code",
   "execution_count": 2,
   "metadata": {},
   "outputs": [
    {
     "name": "stdout",
     "output_type": "stream",
     "text": [
      "Plik plan.svg został skonwertowany na plan.jpg.\n"
     ]
    }
   ],
   "source": [
    "# Ścieżka do pliku SVG\n",
    "input_file = 'plan.svg'\n",
    "\n",
    "# Ścieżka do pliku JPG, który zostanie utworzony\n",
    "output_file = 'plan.jpg'\n",
    "\n",
    "# Konwersja SVG do JPG\n",
    "cairosvg.svg2png(url=input_file, write_to='temp.png')\n",
    "\n",
    "# Zmiana formatu z PNG na JPG\n",
    "from PIL import Image\n",
    "\n",
    "# Otwieramy tymczasowy plik PNG\n",
    "with Image.open('temp.png') as img:\n",
    "    img.convert('RGB').save(output_file, 'JPEG')\n",
    "\n",
    "# Usuwamy tymczasowy plik PNG, jeśli nie jest już potrzebny\n",
    "import os\n",
    "os.remove('temp.png')\n",
    "\n",
    "print(f'Plik {input_file} został skonwertowany na {output_file}.')"
   ]
  }
 ],
 "metadata": {
  "kernelspec": {
   "display_name": "od_zera_do_ai",
   "language": "python",
   "name": "python3"
  },
  "language_info": {
   "codemirror_mode": {
    "name": "ipython",
    "version": 3
   },
   "file_extension": ".py",
   "mimetype": "text/x-python",
   "name": "python",
   "nbconvert_exporter": "python",
   "pygments_lexer": "ipython3",
   "version": "3.11.10"
  }
 },
 "nbformat": 4,
 "nbformat_minor": 2
}
